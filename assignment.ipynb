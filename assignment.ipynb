{
 "cells": [
  {
   "cell_type": "code",
   "execution_count": 11,
   "id": "5c3e50e8-02d9-436b-9b28-6a7fa95602a1",
   "metadata": {},
   "outputs": [],
   "source": [
    "students={}"
   ]
  },
  {
   "cell_type": "code",
   "execution_count": 12,
   "id": "a22a0a24-e0c0-4f41-80f2-cc4dce5d0c20",
   "metadata": {},
   "outputs": [],
   "source": [
    "def add_new_student_and_grades():\n",
    "    name=input(\"name of the student:\")\n",
    "    grades_input=input(\"grades'separate them by commas':\")\n",
    "    grades = [int(grade) for grade in grades_input.split(',')]\n",
    "    students[name]=grades\n",
    "    print(f\"Student {name} and their grades have been added: {students[name]}\")"
   ]
  },
  {
   "cell_type": "code",
   "execution_count": 13,
   "id": "2edfdcf7-4bed-4d8a-99e6-bbe131662b1d",
   "metadata": {},
   "outputs": [],
   "source": [
    "def average_grade():\n",
    "    for name, grades in students.items():\n",
    "        average = sum(grades) / len(grades)  # Calculate the average grade\n",
    "        print(f\"Average grade for {name}: {average}\")"
   ]
  },
  {
   "cell_type": "code",
   "execution_count": 14,
   "id": "30f08d16-7b63-4108-a6e9-b9a0888aae08",
   "metadata": {},
   "outputs": [],
   "source": [
    "# def top_student():\n",
    "#     for name,grades in students.items():\n",
    "#         average=sum(grades) / len(grades)\n",
    "#         average.sort(reverse=True)\n",
    "#         print(f'the top student is {name} with an average scole of :{average[0]}')"
   ]
  },
  {
   "cell_type": "code",
   "execution_count": 15,
   "id": "90642da5-7366-4d2a-a44d-17604d898af4",
   "metadata": {},
   "outputs": [],
   "source": [
    "def top_student():\n",
    "    student_averages = []\n",
    "    for name, grades in students.items():\n",
    "        average = sum(grades) / len(grades)\n",
    "        student_averages.append((name, average))\n",
    "    \n",
    "    student_averages.sort(key=lambda x: x[1], reverse=True)\n",
    "    top_student = student_averages[0]\n",
    "    print(f'The top student is {top_student[0]} with an average score of {top_student[1]:.2f}')"
   ]
  },
  {
   "cell_type": "code",
   "execution_count": 18,
   "id": "fb5aae27-94fe-4a22-8a01-7b4b945b2e3f",
   "metadata": {},
   "outputs": [],
   "source": [
    "def sorted_report():\n",
    "    sorted_data={name: sorted(grades) for name,grades in students.items()}\n",
    "    print(sorted_data)"
   ]
  },
  {
   "cell_type": "code",
   "execution_count": null,
   "id": "e17c1792-2d94-4b03-8d3c-2ef64ab53f12",
   "metadata": {},
   "outputs": [],
   "source": [
    "def menu():\n",
    "    while True:\n",
    "        print(\"1. adding\")\n",
    "        print(\"2.average\")\n",
    "        print(\"3.top student\")\n",
    "        print(\"4.sorted report\")\n",
    "        print(\"5.exit\")\n",
    "        choice=int(input(\"choose (1-5):\"))\n",
    "        if choice==1:\n",
    "            add_new_student_and_grades()\n",
    "        elif choice==2:\n",
    "             average_grade()\n",
    "        elif choice==3:\n",
    "            top_student()\n",
    "        elif choice==4:\n",
    "            sorted_report()\n",
    "        elif choice==5:\n",
    "            print(\"Exiting...\")\n",
    "            break\n",
    "        else:\n",
    "            print(\"INVALLID OPTION!!\")"
   ]
  },
  {
   "cell_type": "code",
   "execution_count": null,
   "id": "a31f8b5d-9c60-4162-9982-abeda7615cd9",
   "metadata": {},
   "outputs": [],
   "source": [
    "menu()"
   ]
  },
  {
   "cell_type": "code",
   "execution_count": null,
   "id": "53641852-105b-4c38-9767-2a8e5fd1302f",
   "metadata": {},
   "outputs": [],
   "source": []
  }
 ],
 "metadata": {
  "kernelspec": {
   "display_name": "Python 3 (ipykernel)",
   "language": "python",
   "name": "python3"
  },
  "language_info": {
   "codemirror_mode": {
    "name": "ipython",
    "version": 3
   },
   "file_extension": ".py",
   "mimetype": "text/x-python",
   "name": "python",
   "nbconvert_exporter": "python",
   "pygments_lexer": "ipython3",
   "version": "3.13.2"
  }
 },
 "nbformat": 4,
 "nbformat_minor": 5
}
